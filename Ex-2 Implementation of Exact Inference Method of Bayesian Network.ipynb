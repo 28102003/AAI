{
 "cells": [
  {
   "cell_type": "code",
   "execution_count": 2,
   "metadata": {},
   "outputs": [
    {
     "name": "stdout",
     "output_type": "stream",
     "text": [
      "Collecting pgmpy\n",
      "  Downloading pgmpy-0.1.25-py3-none-any.whl.metadata (6.4 kB)\n",
      "Requirement already satisfied: networkx in c:\\users\\venka\\anaconda3\\lib\\site-packages (from pgmpy) (3.1)\n",
      "Requirement already satisfied: numpy in c:\\users\\venka\\anaconda3\\lib\\site-packages (from pgmpy) (1.24.3)\n",
      "Requirement already satisfied: scipy in c:\\users\\venka\\anaconda3\\lib\\site-packages (from pgmpy) (1.11.4)\n",
      "Requirement already satisfied: scikit-learn in c:\\users\\venka\\anaconda3\\lib\\site-packages (from pgmpy) (1.2.2)\n",
      "Requirement already satisfied: pandas in c:\\users\\venka\\anaconda3\\lib\\site-packages (from pgmpy) (2.1.4)\n",
      "Requirement already satisfied: pyparsing in c:\\users\\venka\\anaconda3\\lib\\site-packages (from pgmpy) (3.0.9)\n",
      "Requirement already satisfied: torch in c:\\users\\venka\\anaconda3\\lib\\site-packages (from pgmpy) (2.2.2)\n",
      "Requirement already satisfied: statsmodels in c:\\users\\venka\\anaconda3\\lib\\site-packages (from pgmpy) (0.14.0)\n",
      "Requirement already satisfied: tqdm in c:\\users\\venka\\anaconda3\\lib\\site-packages (from pgmpy) (4.65.0)\n",
      "Requirement already satisfied: joblib in c:\\users\\venka\\anaconda3\\lib\\site-packages (from pgmpy) (1.2.0)\n",
      "Requirement already satisfied: opt-einsum in c:\\users\\venka\\anaconda3\\lib\\site-packages (from pgmpy) (3.3.0)\n",
      "Requirement already satisfied: python-dateutil>=2.8.2 in c:\\users\\venka\\anaconda3\\lib\\site-packages (from pandas->pgmpy) (2.8.2)\n",
      "Requirement already satisfied: pytz>=2020.1 in c:\\users\\venka\\anaconda3\\lib\\site-packages (from pandas->pgmpy) (2023.3.post1)\n",
      "Requirement already satisfied: tzdata>=2022.1 in c:\\users\\venka\\anaconda3\\lib\\site-packages (from pandas->pgmpy) (2023.3)\n",
      "Requirement already satisfied: threadpoolctl>=2.0.0 in c:\\users\\venka\\anaconda3\\lib\\site-packages (from scikit-learn->pgmpy) (2.2.0)\n",
      "Requirement already satisfied: patsy>=0.5.2 in c:\\users\\venka\\anaconda3\\lib\\site-packages (from statsmodels->pgmpy) (0.5.3)\n",
      "Requirement already satisfied: packaging>=21.3 in c:\\users\\venka\\anaconda3\\lib\\site-packages (from statsmodels->pgmpy) (23.1)\n",
      "Requirement already satisfied: filelock in c:\\users\\venka\\anaconda3\\lib\\site-packages (from torch->pgmpy) (3.13.1)\n",
      "Requirement already satisfied: typing-extensions>=4.8.0 in c:\\users\\venka\\anaconda3\\lib\\site-packages (from torch->pgmpy) (4.11.0)\n",
      "Requirement already satisfied: sympy in c:\\users\\venka\\anaconda3\\lib\\site-packages (from torch->pgmpy) (1.12)\n",
      "Requirement already satisfied: jinja2 in c:\\users\\venka\\anaconda3\\lib\\site-packages (from torch->pgmpy) (3.1.3)\n",
      "Requirement already satisfied: fsspec in c:\\users\\venka\\anaconda3\\lib\\site-packages (from torch->pgmpy) (2023.10.0)\n",
      "Requirement already satisfied: colorama in c:\\users\\venka\\anaconda3\\lib\\site-packages (from tqdm->pgmpy) (0.4.6)\n",
      "Requirement already satisfied: six in c:\\users\\venka\\anaconda3\\lib\\site-packages (from patsy>=0.5.2->statsmodels->pgmpy) (1.16.0)\n",
      "Requirement already satisfied: MarkupSafe>=2.0 in c:\\users\\venka\\anaconda3\\lib\\site-packages (from jinja2->torch->pgmpy) (2.1.3)\n",
      "Requirement already satisfied: mpmath>=0.19 in c:\\users\\venka\\anaconda3\\lib\\site-packages (from sympy->torch->pgmpy) (1.3.0)\n",
      "Downloading pgmpy-0.1.25-py3-none-any.whl (2.0 MB)\n",
      "   ---------------------------------------- 0.0/2.0 MB ? eta -:--:--\n",
      "   ---------------------------------------- 0.0/2.0 MB ? eta -:--:--\n",
      "   ---------------------------------------- 0.0/2.0 MB 330.3 kB/s eta 0:00:06\n",
      "   ---------------------------------------- 0.0/2.0 MB 330.3 kB/s eta 0:00:06\n",
      "    --------------------------------------- 0.0/2.0 MB 196.9 kB/s eta 0:00:10\n",
      "   - -------------------------------------- 0.1/2.0 MB 393.8 kB/s eta 0:00:05\n",
      "   - -------------------------------------- 0.1/2.0 MB 393.8 kB/s eta 0:00:05\n",
      "   - -------------------------------------- 0.1/2.0 MB 286.7 kB/s eta 0:00:07\n",
      "   - -------------------------------------- 0.1/2.0 MB 286.7 kB/s eta 0:00:07\n",
      "   --- ------------------------------------ 0.2/2.0 MB 382.3 kB/s eta 0:00:05\n",
      "   ---- ----------------------------------- 0.2/2.0 MB 444.2 kB/s eta 0:00:04\n",
      "   ---- ----------------------------------- 0.2/2.0 MB 514.3 kB/s eta 0:00:04\n",
      "   ---- ----------------------------------- 0.2/2.0 MB 514.3 kB/s eta 0:00:04\n",
      "   ------ --------------------------------- 0.3/2.0 MB 534.4 kB/s eta 0:00:04\n",
      "   -------- ------------------------------- 0.4/2.0 MB 593.2 kB/s eta 0:00:03\n",
      "   ----------- ---------------------------- 0.5/2.0 MB 774.0 kB/s eta 0:00:02\n",
      "   -------------- ------------------------- 0.7/2.0 MB 934.7 kB/s eta 0:00:02\n",
      "   --------------------- ------------------ 1.1/2.0 MB 1.3 MB/s eta 0:00:01\n",
      "   ---------------------- ----------------- 1.1/2.0 MB 1.4 MB/s eta 0:00:01\n",
      "   ---------------------- ----------------- 1.1/2.0 MB 1.4 MB/s eta 0:00:01\n",
      "   ------------------------- -------------- 1.2/2.0 MB 1.4 MB/s eta 0:00:01\n",
      "   ------------------------- -------------- 1.2/2.0 MB 1.4 MB/s eta 0:00:01\n",
      "   --------------------------- ------------ 1.4/2.0 MB 1.3 MB/s eta 0:00:01\n",
      "   ------------------------------ --------- 1.5/2.0 MB 1.4 MB/s eta 0:00:01\n",
      "   ------------------------------------ --- 1.8/2.0 MB 1.6 MB/s eta 0:00:01\n",
      "   ---------------------------------------- 2.0/2.0 MB 1.7 MB/s eta 0:00:00\n",
      "Installing collected packages: pgmpy\n",
      "Successfully installed pgmpy-0.1.25\n"
     ]
    }
   ],
   "source": [
    "!pip install pgmpy\n"
   ]
  },
  {
   "cell_type": "code",
   "execution_count": 3,
   "metadata": {},
   "outputs": [
    {
     "name": "stderr",
     "output_type": "stream",
     "text": [
      "INFO:numexpr.utils:Note: NumExpr detected 12 cores but \"NUMEXPR_MAX_THREADS\" not set, so enforcing safe limit of 8.\n",
      "INFO:numexpr.utils:NumExpr defaulting to 8 threads.\n"
     ]
    },
    {
     "name": "stdout",
     "output_type": "stream",
     "text": [
      "+-------------+-----------------+\n",
      "| Burglary    |   phi(Burglary) |\n",
      "+=============+=================+\n",
      "| Burglary(0) |          0.9949 |\n",
      "+-------------+-----------------+\n",
      "| Burglary(1) |          0.0051 |\n",
      "+-------------+-----------------+\n",
      "+-------------+-----------------+\n",
      "| Burglary    |   phi(Burglary) |\n",
      "+=============+=================+\n",
      "| Burglary(0) |          0.9949 |\n",
      "+-------------+-----------------+\n",
      "| Burglary(1) |          0.0051 |\n",
      "+-------------+-----------------+\n"
     ]
    }
   ],
   "source": [
    "from pgmpy.models import BayesianNetwork\n",
    "from pgmpy.factors.discrete import TabularCPD\n",
    "from pgmpy.inference import VariableElimination\n",
    "\n",
    "network=BayesianNetwork([\n",
    "    ('Burglary','Alarm'),\n",
    "    ('Earthquake','Alarm'),\n",
    "    ('Alarm','JohnCalls'),\n",
    "    ('Alarm','MaryCalls')\n",
    "])\n",
    "\n",
    "cpd_burglary = TabularCPD(variable='Burglary',variable_card=2,values=[[0.999],[0.001]])\n",
    "cpd_earthquake = TabularCPD(variable='Earthquake',variable_card=2,values=[[0.998],[0.002]])\n",
    "cpd_alarm = TabularCPD(variable ='Alarm',variable_card=2, values=[[0.999, 0.71, 0.06, 0.05],[0.001, 0.29, 0.94, 0.95]],evidence=['Burglary','Earthquake'],evidence_card=[2,2])\n",
    "cpd_john_calls = TabularCPD(variable='JohnCalls',variable_card=2,values=[[0.95,0.1],[0.05,0.9]],evidence=['Alarm'],evidence_card=[2])\n",
    "cpd_mary_calls = TabularCPD(variable='MaryCalls',variable_card=2,values=[[0.99,0.3],[0.01,0.7]],evidence=['Alarm'],evidence_card=[2])\n",
    "\n",
    "network.add_cpds(cpd_burglary,cpd_earthquake,cpd_alarm,cpd_john_calls,cpd_mary_calls)\n",
    "\n",
    "inference = VariableElimination(network)\n",
    "\n",
    "evidence ={'JohnCalls':1,'MaryCalls':0}\n",
    "query_variable ='Burglary'\n",
    "result = inference.query(variables=[query_variable],evidence=evidence)\n",
    "print(result)\n",
    "\n",
    "evidence1 ={'JohnCalls':1,'MaryCalls':1}\n",
    "query_variable ='Burglary'\n",
    "result2 = inference.query(variables=[query_variable],evidence=evidence)\n",
    "print(result2)"
   ]
  },
  {
   "cell_type": "code",
   "execution_count": null,
   "metadata": {},
   "outputs": [],
   "source": []
  }
 ],
 "metadata": {
  "kernelspec": {
   "display_name": "Python 3 (ipykernel)",
   "language": "python",
   "name": "python3"
  }
 },
 "nbformat": 4,
 "nbformat_minor": 2
}
